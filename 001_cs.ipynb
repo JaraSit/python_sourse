{
 "cells": [
  {
   "cell_type": "markdown",
   "metadata": {},
   "source": [
    "# Numerické modelování 1 - Slabá forma\n",
    "\n",
    "Tento tutoriál má za cíl seznámit čtenáře s aplikovanými vědeckými výpočty v Pythonu, a to hlavně v inženýrském smyslu. Nebudu si tedy klást za cíl odvozovat existenci a jednoznačnost spojitých a diskrétních úloh - tedy vyhnu se definicím jednotlivých prostorů atd. Místo toho se pokusím o výklad sice zjednodušenou - zato pro aplikovaný výzkum dostačující - formou. Tutoriál bude zeměřen zejména na metodu konečných prvků a její implementaci v knihovně FEniCS. Dnešní kurz proto začnu \"opakováním\"/lehkým uvedením základních pojmů. A představením základních myšlenek na příkladu taženého/tlačeného prutu.\n",
    "\n",
    "### Odvození základní řídící rovnice\n",
    "\n",
    "Diferenciální rovnice popisující tažený/tlačený prut sestává ze základních tří komponent:\n",
    "\n",
    "**Geometrická rovnice**\n",
    "Posun průřezu v bodě $x$ je popsán funkcí $u(x)$. Když vyřízneme z nosníku element $\\langle x, \\Delta x\\rangle$, potom můžeme posun levého konce vyjádřit jako $u(x)$ a posun pravého konce jako $u(x+\\Delta x)$. Tedy deformace (relativní protažení, strain) elementu můžeme vyjádřit jako \n",
    "$$\n",
    "\\frac{\\Delta u}{\\Delta x} = \\frac{u(x+\\Delta x) - u(x)}{\\Delta x}.\n",
    "$$\n",
    "Pro infinitezimální element dostaneme limitním přechodem geometrickou rovnici\n",
    "$$\n",
    "    \\varepsilon(x) = \\lim_{\\Delta x\\to 0}\\frac{\\Delta u}{\\Delta x} = \\lim_{\\Delta x\\to 0}\\frac{u(x+\\Delta x) - u(x)}{\\Delta x}= u'(x).\n",
    "$$\n",
    "\n",
    "**Rovnice rovnováhy - Schwedlerova věta**\n",
    "Z rovnosti sil na vyjmutém elementu lze odvodit tzv. schwedlerovu větu pro vztah mezi vnitřní normálovou silou $N(x)$ a vnější intenzitou zatížení $f(x)$. Z přímého součtu všech působících sil, viz obrázek, plyne\n",
    "$$\n",
    "-N(x) + N(x + \\Delta x) + f(x + \\Delta x/2) = 0,\n",
    "$$\n",
    "což lze vyjádřit v napětích $\\sigma$ jako\n",
    "$$\n",
    "-\\sigma(x)A(x) + \\sigma(x + \\Delta x)A(x + \\Delta x) + f(x + \\Delta x/2) = 0.\n",
    "$$\n",
    "Po vydělení $\\Delta x$ a limitním přechodu dostáváme okamžitě diferenciální tvar Schwedlerovy věty\n",
    "$$\n",
    "\\frac{\\mathrm{d}}{\\mathrm{d}x}\\left(\\sigma (x)A(x)\\right) = -f(x).\n",
    "$$\n",
    "\n",
    "**Fyzikální rovnice**\n",
    "Poslední důležitou identitou je fyzikální rovnice popisující vztah mezi napětím a deformací. Uvažujeme lineární elasticitu, takže tento vztah je popsán jednoduše jako \n",
    "$$\n",
    "\\sigma(x) = E(x)\\varepsilon(x),\n",
    "$$\n",
    "kde $E$ je modul pružnosti.\n",
    "\n",
    "Nyní můžeme geometrickou rovnici dosadit do fyzikální a napětí poté dosadit do podmínky rovnováhy. Okamžitě dostáváme řídící rovnici taženého/tlačeného prutu\n",
    "$$\n",
    "\\frac{\\mathrm{d}}{\\mathrm{d}x}\\left(E(x)A(x)u'(x)\\right) = -f(x),\n",
    "$$\n",
    "kterou můžeme dále zjednodušit pokud uvažujeme $E=\\mathrm{konst.}, A=\\mathrm{konst.}$ na tvar\n",
    "$$\n",
    "EAu''(x) = -f(x)\n",
    "$$\n",
    "\n",
    "\n",
    "\n"
   ]
  },
  {
   "cell_type": "markdown",
   "metadata": {},
   "source": [
    "### Analytické řešení"
   ]
  }
 ],
 "metadata": {
  "kernelspec": {
   "display_name": "Python 3",
   "language": "python",
   "name": "python3"
  },
  "language_info": {
   "codemirror_mode": {
    "name": "ipython",
    "version": 3
   },
   "file_extension": ".py",
   "mimetype": "text/x-python",
   "name": "python",
   "nbconvert_exporter": "python",
   "pygments_lexer": "ipython3",
   "version": "3.8.5"
  }
 },
 "nbformat": 4,
 "nbformat_minor": 4
}
